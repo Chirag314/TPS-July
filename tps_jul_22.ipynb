{
  "metadata": {
    "kernelspec": {
      "language": "python",
      "display_name": "Python 3",
      "name": "python3"
    },
    "language_info": {
      "name": "python",
      "version": "3.7.12",
      "mimetype": "text/x-python",
      "codemirror_mode": {
        "name": "ipython",
        "version": 3
      },
      "pygments_lexer": "ipython3",
      "nbconvert_exporter": "python",
      "file_extension": ".py"
    },
    "colab": {
      "name": "tps-jul-22.ipynb",
      "provenance": [],
      "include_colab_link": true
    },
    "accelerator": "TPU",
    "gpuClass": "standard"
  },
  "nbformat_minor": 0,
  "nbformat": 4,
  "cells": [
    {
      "cell_type": "markdown",
      "metadata": {
        "id": "view-in-github",
        "colab_type": "text"
      },
      "source": [
        "<a href=\"https://colab.research.google.com/github/Chirag314/TPS-July/blob/main/tps_jul_22.ipynb\" target=\"_parent\"><img src=\"https://colab.research.google.com/assets/colab-badge.svg\" alt=\"Open In Colab\"/></a>"
      ]
    },
    {
      "cell_type": "markdown",
      "source": [
        "#### References\n",
        "Inspiration was taken from these great notebooks:\n",
        "\n",
        "- https://www.kaggle.com/code/ambrosm/tpsjul22-gaussian-mixture-cluster-analysis\n",
        "- https://www.kaggle.com/code/ricopue/tps-jul22-clusters-and-lgb\n",
        "- https://www.kaggle.com/code/pourchot/simple-soft-voting\n",
        "- https://www.kaggle.com/code/hiro5299834/tps-jul-2022-unsupervised-and-supervised-learning\n",
        "- https://www.kaggle.com/code/karlcini/bayesiangmmclassifier\n",
        "\n",
        "Baseline Model: \n",
        "\n",
        "- https://www.kaggle.com/code/cabaxiom/tps-jul-22-gmm-baseline"
      ],
      "metadata": {
        "id": "tyJw2ya-OkLS"
      }
    },
    {
      "cell_type": "code",
      "source": [
        "!pip install sklego"
      ],
      "metadata": {
        "_kg_hide-output": true,
        "trusted": true,
        "colab": {
          "base_uri": "https://localhost:8080/"
        },
        "id": "lPIuyfdjOkLW",
        "outputId": "4403ce09-5708-4000-a9f2-09a855844a1c"
      },
      "execution_count": 1,
      "outputs": [
        {
          "output_type": "stream",
          "name": "stdout",
          "text": [
            "Looking in indexes: https://pypi.org/simple, https://us-python.pkg.dev/colab-wheels/public/simple/\n",
            "Collecting sklego\n",
            "  Downloading sklego-0.0-py2.py3-none-any.whl (1.1 kB)\n",
            "Collecting scikit-lego\n",
            "  Downloading scikit_lego-0.6.12-py2.py3-none-any.whl (224 kB)\n",
            "\u001b[K     |████████████████████████████████| 224 kB 4.7 MB/s \n",
            "\u001b[?25hRequirement already satisfied: patsy>=0.5.1 in /usr/local/lib/python3.7/dist-packages (from scikit-lego->sklego) (0.5.2)\n",
            "Requirement already satisfied: autograd>=1.2 in /usr/local/lib/python3.7/dist-packages (from scikit-lego->sklego) (1.4)\n",
            "Requirement already satisfied: pandas>=1.1.5 in /usr/local/lib/python3.7/dist-packages (from scikit-lego->sklego) (1.3.5)\n",
            "Collecting umap-learn>=0.4.6\n",
            "  Downloading umap-learn-0.5.3.tar.gz (88 kB)\n",
            "\u001b[K     |████████████████████████████████| 88 kB 5.6 MB/s \n",
            "\u001b[?25hCollecting Deprecated>=1.2.6\n",
            "  Downloading Deprecated-1.2.13-py2.py3-none-any.whl (9.6 kB)\n",
            "Requirement already satisfied: scikit-learn>=0.24.1 in /usr/local/lib/python3.7/dist-packages (from scikit-lego->sklego) (1.0.2)\n",
            "Requirement already satisfied: numpy>=1.12 in /usr/local/lib/python3.7/dist-packages (from autograd>=1.2->scikit-lego->sklego) (1.21.6)\n",
            "Requirement already satisfied: future>=0.15.2 in /usr/local/lib/python3.7/dist-packages (from autograd>=1.2->scikit-lego->sklego) (0.16.0)\n",
            "Requirement already satisfied: wrapt<2,>=1.10 in /usr/local/lib/python3.7/dist-packages (from Deprecated>=1.2.6->scikit-lego->sklego) (1.14.1)\n",
            "Requirement already satisfied: pytz>=2017.3 in /usr/local/lib/python3.7/dist-packages (from pandas>=1.1.5->scikit-lego->sklego) (2022.1)\n",
            "Requirement already satisfied: python-dateutil>=2.7.3 in /usr/local/lib/python3.7/dist-packages (from pandas>=1.1.5->scikit-lego->sklego) (2.8.2)\n",
            "Requirement already satisfied: six in /usr/local/lib/python3.7/dist-packages (from patsy>=0.5.1->scikit-lego->sklego) (1.15.0)\n",
            "Requirement already satisfied: threadpoolctl>=2.0.0 in /usr/local/lib/python3.7/dist-packages (from scikit-learn>=0.24.1->scikit-lego->sklego) (3.1.0)\n",
            "Requirement already satisfied: joblib>=0.11 in /usr/local/lib/python3.7/dist-packages (from scikit-learn>=0.24.1->scikit-lego->sklego) (1.1.0)\n",
            "Requirement already satisfied: scipy>=1.1.0 in /usr/local/lib/python3.7/dist-packages (from scikit-learn>=0.24.1->scikit-lego->sklego) (1.7.3)\n",
            "Requirement already satisfied: numba>=0.49 in /usr/local/lib/python3.7/dist-packages (from umap-learn>=0.4.6->scikit-lego->sklego) (0.51.2)\n",
            "Collecting pynndescent>=0.5\n",
            "  Downloading pynndescent-0.5.7.tar.gz (1.1 MB)\n",
            "\u001b[K     |████████████████████████████████| 1.1 MB 6.9 MB/s \n",
            "\u001b[?25hRequirement already satisfied: tqdm in /usr/local/lib/python3.7/dist-packages (from umap-learn>=0.4.6->scikit-lego->sklego) (4.64.0)\n",
            "Requirement already satisfied: setuptools in /usr/local/lib/python3.7/dist-packages (from numba>=0.49->umap-learn>=0.4.6->scikit-lego->sklego) (57.4.0)\n",
            "Requirement already satisfied: llvmlite<0.35,>=0.34.0.dev0 in /usr/local/lib/python3.7/dist-packages (from numba>=0.49->umap-learn>=0.4.6->scikit-lego->sklego) (0.34.0)\n",
            "Building wheels for collected packages: umap-learn, pynndescent\n",
            "  Building wheel for umap-learn (setup.py) ... \u001b[?25l\u001b[?25hdone\n",
            "  Created wheel for umap-learn: filename=umap_learn-0.5.3-py3-none-any.whl size=82829 sha256=94cc3751e774088a5cf0381c9ce3631737f74b4d1d683e84e59579bd2c53cc4e\n",
            "  Stored in directory: /root/.cache/pip/wheels/b3/52/a5/1fd9e3e76a7ab34f134c07469cd6f16e27ef3a37aeff1fe821\n",
            "  Building wheel for pynndescent (setup.py) ... \u001b[?25l\u001b[?25hdone\n",
            "  Created wheel for pynndescent: filename=pynndescent-0.5.7-py3-none-any.whl size=54286 sha256=8cff47635e2d7a63e45bd572896a9dbba32ae50e13aed52cace3e42c7ca40f5a\n",
            "  Stored in directory: /root/.cache/pip/wheels/7f/2a/f8/7bd5dcec71bd5c669f6f574db3113513696b98f3f9b51f496c\n",
            "Successfully built umap-learn pynndescent\n",
            "Installing collected packages: pynndescent, umap-learn, Deprecated, scikit-lego, sklego\n",
            "Successfully installed Deprecated-1.2.13 pynndescent-0.5.7 scikit-lego-0.6.12 sklego-0.0 umap-learn-0.5.3\n"
          ]
        }
      ]
    },
    {
      "cell_type": "code",
      "source": [
        "import numpy as np\n",
        "import pandas as pd\n",
        "import matplotlib.pyplot as plt\n",
        "import seaborn as sns\n",
        "sns.set_style('darkgrid')\n",
        "\n",
        "from sklearn.preprocessing import StandardScaler, RobustScaler, MinMaxScaler, PowerTransformer\n",
        "from sklearn.mixture import GaussianMixture, BayesianGaussianMixture\n",
        "from sklearn.decomposition import PCA\n",
        "from sklearn.metrics import silhouette_score, calinski_harabasz_score, davies_bouldin_score\n",
        "\n",
        "from lightgbm import LGBMClassifier\n",
        "from sklearn.model_selection import StratifiedKFold\n",
        "from sklearn.metrics import accuracy_score\n",
        "from sklearn.ensemble import ExtraTreesClassifier\n",
        "from sklearn.discriminant_analysis import QuadraticDiscriminantAnalysis, LinearDiscriminantAnalysis\n",
        "from sklego.mixture import BayesianGMMClassifier"
      ],
      "metadata": {
        "_uuid": "8f2839f25d086af736a60e9eeb907d3b93b6e0e5",
        "_cell_guid": "b1076dfc-b9ad-4769-8c92-a6c4dae69d19",
        "trusted": true,
        "id": "xoD_zwiMOkLX"
      },
      "execution_count": 2,
      "outputs": []
    },
    {
      "cell_type": "code",
      "source": [
        "df = pd.read_csv(\"data.csv\")\n",
        "df = df.drop(columns=\"id\")\n",
        "df.head()"
      ],
      "metadata": {
        "trusted": true,
        "colab": {
          "base_uri": "https://localhost:8080/",
          "height": 300
        },
        "id": "rmaqRQxUOkLX",
        "outputId": "292a6299-3fe8-42cc-9e29-13b14fdeac36"
      },
      "execution_count": 7,
      "outputs": [
        {
          "output_type": "execute_result",
          "data": {
            "text/plain": [
              "       f_00      f_01      f_02      f_03      f_04      f_05      f_06  f_07  \\\n",
              "0 -0.389420 -0.912791  0.648951  0.589045 -0.830817  0.733624  2.258560     2   \n",
              "1 -0.689249 -0.453954  0.654175  0.995248 -1.653020  0.863810 -0.090651     2   \n",
              "2  0.809079  0.324568 -1.170602 -0.624491  0.105448  0.783948  1.988301     5   \n",
              "3 -0.500923  0.229049  0.264109  0.231520  0.415012 -1.221269  0.138850     6   \n",
              "4 -0.671268 -1.039533 -0.270155 -1.830264 -0.290108 -1.852809  0.781898     8   \n",
              "\n",
              "   f_08  f_09  ...      f_19      f_20      f_21      f_22      f_23  \\\n",
              "0    13    14  ... -0.478412 -0.757002 -0.763635 -1.090369  1.142641   \n",
              "1     3     6  ... -0.428791 -0.089908 -1.784204 -0.839474  0.459685   \n",
              "2    11     5  ... -0.413534 -1.602377  1.190984  3.267116 -0.088322   \n",
              "3     2    13  ...  0.619283  1.287801  0.532837  1.036631 -2.041828   \n",
              "4     7     5  ... -1.628830 -0.434948  0.322505  0.284326 -2.438365   \n",
              "\n",
              "       f_24      f_25      f_26      f_27      f_28  \n",
              "0 -0.884274  1.137896  1.309073  1.463002  0.813527  \n",
              "1  1.759412 -0.275422 -0.852168  0.562457 -2.680541  \n",
              "2 -2.168635 -0.974989  1.335763 -1.110655 -3.630723  \n",
              "3  1.440490 -1.900191 -0.630771 -0.050641  0.238333  \n",
              "4  1.473930 -1.044684  1.602686 -0.405263 -1.987263  \n",
              "\n",
              "[5 rows x 29 columns]"
            ],
            "text/html": [
              "\n",
              "  <div id=\"df-c2f4039b-23ff-461e-8934-3762181a5682\">\n",
              "    <div class=\"colab-df-container\">\n",
              "      <div>\n",
              "<style scoped>\n",
              "    .dataframe tbody tr th:only-of-type {\n",
              "        vertical-align: middle;\n",
              "    }\n",
              "\n",
              "    .dataframe tbody tr th {\n",
              "        vertical-align: top;\n",
              "    }\n",
              "\n",
              "    .dataframe thead th {\n",
              "        text-align: right;\n",
              "    }\n",
              "</style>\n",
              "<table border=\"1\" class=\"dataframe\">\n",
              "  <thead>\n",
              "    <tr style=\"text-align: right;\">\n",
              "      <th></th>\n",
              "      <th>f_00</th>\n",
              "      <th>f_01</th>\n",
              "      <th>f_02</th>\n",
              "      <th>f_03</th>\n",
              "      <th>f_04</th>\n",
              "      <th>f_05</th>\n",
              "      <th>f_06</th>\n",
              "      <th>f_07</th>\n",
              "      <th>f_08</th>\n",
              "      <th>f_09</th>\n",
              "      <th>...</th>\n",
              "      <th>f_19</th>\n",
              "      <th>f_20</th>\n",
              "      <th>f_21</th>\n",
              "      <th>f_22</th>\n",
              "      <th>f_23</th>\n",
              "      <th>f_24</th>\n",
              "      <th>f_25</th>\n",
              "      <th>f_26</th>\n",
              "      <th>f_27</th>\n",
              "      <th>f_28</th>\n",
              "    </tr>\n",
              "  </thead>\n",
              "  <tbody>\n",
              "    <tr>\n",
              "      <th>0</th>\n",
              "      <td>-0.389420</td>\n",
              "      <td>-0.912791</td>\n",
              "      <td>0.648951</td>\n",
              "      <td>0.589045</td>\n",
              "      <td>-0.830817</td>\n",
              "      <td>0.733624</td>\n",
              "      <td>2.258560</td>\n",
              "      <td>2</td>\n",
              "      <td>13</td>\n",
              "      <td>14</td>\n",
              "      <td>...</td>\n",
              "      <td>-0.478412</td>\n",
              "      <td>-0.757002</td>\n",
              "      <td>-0.763635</td>\n",
              "      <td>-1.090369</td>\n",
              "      <td>1.142641</td>\n",
              "      <td>-0.884274</td>\n",
              "      <td>1.137896</td>\n",
              "      <td>1.309073</td>\n",
              "      <td>1.463002</td>\n",
              "      <td>0.813527</td>\n",
              "    </tr>\n",
              "    <tr>\n",
              "      <th>1</th>\n",
              "      <td>-0.689249</td>\n",
              "      <td>-0.453954</td>\n",
              "      <td>0.654175</td>\n",
              "      <td>0.995248</td>\n",
              "      <td>-1.653020</td>\n",
              "      <td>0.863810</td>\n",
              "      <td>-0.090651</td>\n",
              "      <td>2</td>\n",
              "      <td>3</td>\n",
              "      <td>6</td>\n",
              "      <td>...</td>\n",
              "      <td>-0.428791</td>\n",
              "      <td>-0.089908</td>\n",
              "      <td>-1.784204</td>\n",
              "      <td>-0.839474</td>\n",
              "      <td>0.459685</td>\n",
              "      <td>1.759412</td>\n",
              "      <td>-0.275422</td>\n",
              "      <td>-0.852168</td>\n",
              "      <td>0.562457</td>\n",
              "      <td>-2.680541</td>\n",
              "    </tr>\n",
              "    <tr>\n",
              "      <th>2</th>\n",
              "      <td>0.809079</td>\n",
              "      <td>0.324568</td>\n",
              "      <td>-1.170602</td>\n",
              "      <td>-0.624491</td>\n",
              "      <td>0.105448</td>\n",
              "      <td>0.783948</td>\n",
              "      <td>1.988301</td>\n",
              "      <td>5</td>\n",
              "      <td>11</td>\n",
              "      <td>5</td>\n",
              "      <td>...</td>\n",
              "      <td>-0.413534</td>\n",
              "      <td>-1.602377</td>\n",
              "      <td>1.190984</td>\n",
              "      <td>3.267116</td>\n",
              "      <td>-0.088322</td>\n",
              "      <td>-2.168635</td>\n",
              "      <td>-0.974989</td>\n",
              "      <td>1.335763</td>\n",
              "      <td>-1.110655</td>\n",
              "      <td>-3.630723</td>\n",
              "    </tr>\n",
              "    <tr>\n",
              "      <th>3</th>\n",
              "      <td>-0.500923</td>\n",
              "      <td>0.229049</td>\n",
              "      <td>0.264109</td>\n",
              "      <td>0.231520</td>\n",
              "      <td>0.415012</td>\n",
              "      <td>-1.221269</td>\n",
              "      <td>0.138850</td>\n",
              "      <td>6</td>\n",
              "      <td>2</td>\n",
              "      <td>13</td>\n",
              "      <td>...</td>\n",
              "      <td>0.619283</td>\n",
              "      <td>1.287801</td>\n",
              "      <td>0.532837</td>\n",
              "      <td>1.036631</td>\n",
              "      <td>-2.041828</td>\n",
              "      <td>1.440490</td>\n",
              "      <td>-1.900191</td>\n",
              "      <td>-0.630771</td>\n",
              "      <td>-0.050641</td>\n",
              "      <td>0.238333</td>\n",
              "    </tr>\n",
              "    <tr>\n",
              "      <th>4</th>\n",
              "      <td>-0.671268</td>\n",
              "      <td>-1.039533</td>\n",
              "      <td>-0.270155</td>\n",
              "      <td>-1.830264</td>\n",
              "      <td>-0.290108</td>\n",
              "      <td>-1.852809</td>\n",
              "      <td>0.781898</td>\n",
              "      <td>8</td>\n",
              "      <td>7</td>\n",
              "      <td>5</td>\n",
              "      <td>...</td>\n",
              "      <td>-1.628830</td>\n",
              "      <td>-0.434948</td>\n",
              "      <td>0.322505</td>\n",
              "      <td>0.284326</td>\n",
              "      <td>-2.438365</td>\n",
              "      <td>1.473930</td>\n",
              "      <td>-1.044684</td>\n",
              "      <td>1.602686</td>\n",
              "      <td>-0.405263</td>\n",
              "      <td>-1.987263</td>\n",
              "    </tr>\n",
              "  </tbody>\n",
              "</table>\n",
              "<p>5 rows × 29 columns</p>\n",
              "</div>\n",
              "      <button class=\"colab-df-convert\" onclick=\"convertToInteractive('df-c2f4039b-23ff-461e-8934-3762181a5682')\"\n",
              "              title=\"Convert this dataframe to an interactive table.\"\n",
              "              style=\"display:none;\">\n",
              "        \n",
              "  <svg xmlns=\"http://www.w3.org/2000/svg\" height=\"24px\"viewBox=\"0 0 24 24\"\n",
              "       width=\"24px\">\n",
              "    <path d=\"M0 0h24v24H0V0z\" fill=\"none\"/>\n",
              "    <path d=\"M18.56 5.44l.94 2.06.94-2.06 2.06-.94-2.06-.94-.94-2.06-.94 2.06-2.06.94zm-11 1L8.5 8.5l.94-2.06 2.06-.94-2.06-.94L8.5 2.5l-.94 2.06-2.06.94zm10 10l.94 2.06.94-2.06 2.06-.94-2.06-.94-.94-2.06-.94 2.06-2.06.94z\"/><path d=\"M17.41 7.96l-1.37-1.37c-.4-.4-.92-.59-1.43-.59-.52 0-1.04.2-1.43.59L10.3 9.45l-7.72 7.72c-.78.78-.78 2.05 0 2.83L4 21.41c.39.39.9.59 1.41.59.51 0 1.02-.2 1.41-.59l7.78-7.78 2.81-2.81c.8-.78.8-2.07 0-2.86zM5.41 20L4 18.59l7.72-7.72 1.47 1.35L5.41 20z\"/>\n",
              "  </svg>\n",
              "      </button>\n",
              "      \n",
              "  <style>\n",
              "    .colab-df-container {\n",
              "      display:flex;\n",
              "      flex-wrap:wrap;\n",
              "      gap: 12px;\n",
              "    }\n",
              "\n",
              "    .colab-df-convert {\n",
              "      background-color: #E8F0FE;\n",
              "      border: none;\n",
              "      border-radius: 50%;\n",
              "      cursor: pointer;\n",
              "      display: none;\n",
              "      fill: #1967D2;\n",
              "      height: 32px;\n",
              "      padding: 0 0 0 0;\n",
              "      width: 32px;\n",
              "    }\n",
              "\n",
              "    .colab-df-convert:hover {\n",
              "      background-color: #E2EBFA;\n",
              "      box-shadow: 0px 1px 2px rgba(60, 64, 67, 0.3), 0px 1px 3px 1px rgba(60, 64, 67, 0.15);\n",
              "      fill: #174EA6;\n",
              "    }\n",
              "\n",
              "    [theme=dark] .colab-df-convert {\n",
              "      background-color: #3B4455;\n",
              "      fill: #D2E3FC;\n",
              "    }\n",
              "\n",
              "    [theme=dark] .colab-df-convert:hover {\n",
              "      background-color: #434B5C;\n",
              "      box-shadow: 0px 1px 3px 1px rgba(0, 0, 0, 0.15);\n",
              "      filter: drop-shadow(0px 1px 2px rgba(0, 0, 0, 0.3));\n",
              "      fill: #FFFFFF;\n",
              "    }\n",
              "  </style>\n",
              "\n",
              "      <script>\n",
              "        const buttonEl =\n",
              "          document.querySelector('#df-c2f4039b-23ff-461e-8934-3762181a5682 button.colab-df-convert');\n",
              "        buttonEl.style.display =\n",
              "          google.colab.kernel.accessAllowed ? 'block' : 'none';\n",
              "\n",
              "        async function convertToInteractive(key) {\n",
              "          const element = document.querySelector('#df-c2f4039b-23ff-461e-8934-3762181a5682');\n",
              "          const dataTable =\n",
              "            await google.colab.kernel.invokeFunction('convertToInteractive',\n",
              "                                                     [key], {});\n",
              "          if (!dataTable) return;\n",
              "\n",
              "          const docLinkHtml = 'Like what you see? Visit the ' +\n",
              "            '<a target=\"_blank\" href=https://colab.research.google.com/notebooks/data_table.ipynb>data table notebook</a>'\n",
              "            + ' to learn more about interactive tables.';\n",
              "          element.innerHTML = '';\n",
              "          dataTable['output_type'] = 'display_data';\n",
              "          await google.colab.output.renderOutput(dataTable, element);\n",
              "          const docLink = document.createElement('div');\n",
              "          docLink.innerHTML = docLinkHtml;\n",
              "          element.appendChild(docLink);\n",
              "        }\n",
              "      </script>\n",
              "    </div>\n",
              "  </div>\n",
              "  "
            ]
          },
          "metadata": {},
          "execution_count": 7
        }
      ]
    },
    {
      "cell_type": "code",
      "source": [
        "int_cols = [i for i in df.columns if df[i].dtype == int]\n",
        "float_cols = [i for i in df.columns if df[i].dtype == float]"
      ],
      "metadata": {
        "trusted": true,
        "id": "7A6XmD6gOkLY"
      },
      "execution_count": 5,
      "outputs": []
    },
    {
      "cell_type": "code",
      "source": [
        "transformer = PowerTransformer()\n",
        "X_scaled = transformer.fit_transform(df)\n",
        "X_scaled = pd.DataFrame(X_scaled, columns = df.columns)"
      ],
      "metadata": {
        "trusted": true,
        "id": "oHesPcUMOkLY"
      },
      "execution_count": 6,
      "outputs": []
    },
    {
      "cell_type": "code",
      "source": [
        "def components_number_multiple(max_n, n_seeds):\n",
        "    bic_scores = []\n",
        "    for n in range(2,max_n):\n",
        "        bic_scores_n = []\n",
        "        for seed in range(n_seeds):\n",
        "            gmm = GaussianMixture(n_components=n, covariance_type = 'full', n_init=3, random_state=seed)\n",
        "            gmm.fit(X_scaled)\n",
        "            bic_scores_n.append(gmm.bic(X_scaled))\n",
        "        bic_scores.append(bic_scores_n)\n",
        "    return bic_scores"
      ],
      "metadata": {
        "trusted": true,
        "id": "w0a94xHfOkLZ"
      },
      "execution_count": 8,
      "outputs": []
    },
    {
      "cell_type": "code",
      "source": [
        "def plot_components_number_multiple(max_n, n_seeds):\n",
        "    bic_scores = components_number_multiple(max_n + 1, n_seeds)\n",
        "    bic_df = pd.DataFrame(data = bic_scores).T\n",
        "    bic_df.columns = range(2,max_n+1)\n",
        "    \n",
        "    f,ax = plt.subplots(figsize=(20,7))\n",
        "    for i in range(n_seeds):\n",
        "        sns.lineplot(x=bic_df.columns, y=bic_df.loc[i].values)\n",
        "    ax.set_xticks(range(2,max_n+1))\n",
        "    \n",
        "    return bic_df"
      ],
      "metadata": {
        "trusted": true,
        "id": "U1IFHxlEOkLZ"
      },
      "execution_count": 9,
      "outputs": []
    },
    {
      "cell_type": "code",
      "source": [
        "a = plot_components_number_multiple(max_n = 8, n_seeds = 1)"
      ],
      "metadata": {
        "trusted": true,
        "colab": {
          "base_uri": "https://localhost:8080/",
          "height": 439
        },
        "id": "u-KqB31WOkLa",
        "outputId": "259aefcb-1c56-4722-ed98-def5c735c991"
      },
      "execution_count": 10,
      "outputs": [
        {
          "output_type": "display_data",
          "data": {
            "text/plain": [
              "<Figure size 1440x504 with 1 Axes>"
            ],
            "image/png": "[encoded data removed]"
          },
          "metadata": {}
        }
      ]
    },
    {
      "cell_type": "code",
      "source": [
        "bgmm = BayesianGaussianMixture(n_components=7, covariance_type = 'full', n_init=3, random_state=2)\n",
        "predicted_class = bgmm.fit_predict(X_scaled)\n",
        "df[\"class\"] = predicted_class"
      ],
      "metadata": {
        "trusted": true,
        "id": "7mQVtLWLOkLb"
      },
      "execution_count": null,
      "outputs": []
    },
    {
      "cell_type": "code",
      "source": [
        "f,ax = plt.subplots(figsize=(25,50))\n",
        "for n,feature in enumerate(float_cols):\n",
        "    plt.subplot(8,3,n+1)\n",
        "    sns.kdeplot(data=df, x=feature, hue=\"class\", palette=sns.color_palette(\"hls\", 7));"
      ],
      "metadata": {
        "trusted": true,
        "id": "BdDkdwFvOkLb"
      },
      "execution_count": null,
      "outputs": []
    },
    {
      "cell_type": "code",
      "source": [
        "f,ax = plt.subplots(figsize=(25,20))\n",
        "for n,feature in enumerate(int_cols):\n",
        "    ax = plt.subplot(3,3,n+1)\n",
        "    sns.kdeplot(data=df, x=feature, hue=\"class\", bw_adjust=2, palette=sns.color_palette(\"hls\", 7));\n",
        "    ax.set_xlim([-2,30])"
      ],
      "metadata": {
        "trusted": true,
        "id": "5JfhUcP5OkLb"
      },
      "execution_count": null,
      "outputs": []
    },
    {
      "cell_type": "code",
      "source": [
        "best_cols = ['f_07','f_08', 'f_09', 'f_10','f_11', 'f_12', 'f_13', 'f_22','f_23', 'f_24', 'f_25','f_26','f_27', 'f_28']"
      ],
      "metadata": {
        "trusted": true,
        "id": "CxD-K6OAOkLc"
      },
      "execution_count": null,
      "outputs": []
    },
    {
      "cell_type": "code",
      "source": [
        "def score_clusters(X, predictions, silhouette = True, verbose=False):\n",
        "    \"\"\"Evaluate how good our cluster label predictions are\"\"\"\n",
        "    \n",
        "    db_score = davies_bouldin_score(X=X, labels=predictions)\n",
        "\n",
        "    ch_score = calinski_harabasz_score(X=X, labels=predictions)\n",
        "    #the silhouette score is the slowest to compute ~90 secs\n",
        "    s_score = silhouette_score(X=X, labels=predictions, metric='euclidean')\n",
        "    \n",
        "    if verbose:\n",
        "        print(\"David Bouldin score: {0:0.4f}\".format(db_score))\n",
        "        print(\"Calinski Harabasz score: {0:0.3f}\".format(ch_score))\n",
        "        print(\"Silhouette score: {0:0.4f}\".format(s_score))\n",
        "        \n",
        "    return db_score, ch_score, s_score"
      ],
      "metadata": {
        "trusted": true,
        "id": "BmXeMu6IOkLc"
      },
      "execution_count": null,
      "outputs": []
    },
    {
      "cell_type": "code",
      "source": [
        "def soft_voting(predict_number, best_cols = best_cols):\n",
        "    #initialise dataframe with 0's\n",
        "    predicted_probabilities = pd.DataFrame(np.zeros((len(df),7)), columns=range(1,8))\n",
        "    # loop with a different random seeds\n",
        "    for i in range(predict_number):\n",
        "        print(\"=========\", i, \"==========\")\n",
        "        X_scaled_sample = X_scaled.sample(40000)\n",
        "        gmm = BayesianGaussianMixture(n_components=7, covariance_type = 'full', max_iter=300, init_params=\"kmeans\", n_init=3, random_state=i)\n",
        "        gmm.fit(X_scaled_sample[best_cols])\n",
        "        pred_probs = gmm.predict_proba(X_scaled[best_cols])\n",
        "        pred_probs = pd.DataFrame(pred_probs, columns=range(1,8))\n",
        "        \n",
        "        # ensuring clusters are labeled the same value at each fit\n",
        "        if i == 0:\n",
        "            initial_centers = gmm.means_\n",
        "        new_classes = []\n",
        "        for mean2 in gmm.means_:\n",
        "            #for the current center of the current gmm, find the distances to every center in the initial gmm\n",
        "            distances = [np.linalg.norm(mean1-mean2) for mean1 in initial_centers]\n",
        "            # select the class with the minimum distance\n",
        "            new_class = np.argmin(distances) + 1 #add 1 as our labels are 1-7 but index is 0-6\n",
        "            new_classes.append(new_class)\n",
        "        # if the mapping from old cluster labels to new cluster labels isn't 1 to 1\n",
        "        if len(new_classes) != len(set(new_classes)):\n",
        "            print(\"iteration\", i, \"could not determine the cluster label mapping, skipping\")\n",
        "            continue\n",
        "        #apply the mapping by renaming the dataframe columns representing the original labels to the new labels    \n",
        "        pred_probs = pred_probs.rename(columns=dict(zip(range(1,8),new_classes)))\n",
        "        \n",
        "        #add the current prediction probabilities to the overall prediction probabilities\n",
        "        predicted_probabilities = predicted_probabilities + pred_probs\n",
        "        # lets score the cluster labels each iteration to see if soft voting is helpful\n",
        "        score_clusters(X_scaled[best_cols], predicted_probabilities.idxmax(axis=1), verbose=True)\n",
        "    \n",
        "    #normalise dataframe so each row sums to 1\n",
        "    predicted_probabilities = predicted_probabilities.div(predicted_probabilities.sum(axis=1), axis=0)\n",
        "    return predicted_probabilities"
      ],
      "metadata": {
        "trusted": true,
        "id": "RFLZoLHnOkLc"
      },
      "execution_count": null,
      "outputs": []
    },
    {
      "cell_type": "code",
      "source": [
        "pred_probs = soft_voting(10)"
      ],
      "metadata": {
        "trusted": true,
        "id": "kGm6ZY_POkLd"
      },
      "execution_count": null,
      "outputs": []
    },
    {
      "cell_type": "code",
      "source": [
        "%%time\n",
        "score_clusters(X_scaled[best_cols],pred_probs.idxmax(axis=1), verbose=True)"
      ],
      "metadata": {
        "trusted": true,
        "id": "TgBCerdZOkLd"
      },
      "execution_count": null,
      "outputs": []
    },
    {
      "cell_type": "code",
      "source": [
        "def best_class(df):\n",
        "    new_df = df.copy()\n",
        "    new_df[\"highest_prob\"] = df.max(axis=1)\n",
        "    new_df[\"best_class\"] = df.idxmax(axis=1)\n",
        "    new_df[\"second_highest_prob\"] = df.apply(lambda x: x.nlargest(2).values[-1], axis=1)\n",
        "    new_df[\"second_best_class\"] = df.apply(lambda x: np.where(x == x.nlargest(2).values[-1])[0][0]+1, axis=1)\n",
        "    return new_df"
      ],
      "metadata": {
        "trusted": true,
        "id": "4vWbw6WMOkLd"
      },
      "execution_count": null,
      "outputs": []
    },
    {
      "cell_type": "code",
      "source": [
        "cluster_class_probs = best_class(pred_probs)"
      ],
      "metadata": {
        "trusted": true,
        "id": "_eZRGoyIOkLd"
      },
      "execution_count": null,
      "outputs": []
    },
    {
      "cell_type": "code",
      "source": [
        "cluster_class_probs.head()"
      ],
      "metadata": {
        "trusted": true,
        "id": "WAqvKjLkOkLd"
      },
      "execution_count": null,
      "outputs": []
    },
    {
      "cell_type": "markdown",
      "source": [
        "Lets visualise how confident our predictions are:"
      ],
      "metadata": {
        "id": "uf50NrNmOkLe"
      }
    },
    {
      "cell_type": "code",
      "source": [
        "f,ax = plt.subplots(figsize=(20,7))\n",
        "sns.histplot(cluster_class_probs[\"highest_prob\"], bins=100);"
      ],
      "metadata": {
        "trusted": true,
        "id": "Tdoxw_atOkLe"
      },
      "execution_count": null,
      "outputs": []
    },
    {
      "cell_type": "code",
      "source": [
        "confidence_s = cluster_class_probs.groupby(\"best_class\")[\"highest_prob\"].mean()\n",
        "f,ax = plt.subplots(figsize=(8,6))\n",
        "sns.barplot(x=confidence_s.index, y = confidence_s.values, palette=sns.color_palette(\"hls\", 7) );\n",
        "ax.set_ylabel(\"Mean probability of point belonging to target class\");\n",
        "ax.set_ylim([0.65,0.95]);"
      ],
      "metadata": {
        "trusted": true,
        "id": "FMJ_Vk_UOkLe"
      },
      "execution_count": null,
      "outputs": []
    },
    {
      "cell_type": "code",
      "source": [
        "second_highest_probs_sum = cluster_class_probs.groupby([\"best_class\",\"second_best_class\"])[\"second_highest_prob\"].sum().reset_index()\n",
        "\n",
        "f,ax = plt.subplots(figsize=(25,12))\n",
        "format_dataframe = pd.DataFrame({\"second_best_class\":range(1,8)})\n",
        "for i in range(1,8):\n",
        "    second_best_match_for_i = second_highest_probs_sum.loc[second_highest_probs_sum[\"best_class\"] == i, [\"second_best_class\",\"second_highest_prob\"]]\n",
        "    #We merge so that all classes 1 to 7 are available, we do this to keep colours consistent throughout plots\n",
        "    plot_df = pd.merge(left=format_dataframe, right=second_best_match_for_i, how=\"left\", on=\"second_best_class\")\n",
        "    ax = plt.subplot(2,4,i)\n",
        "    sns.barplot(data= plot_df, x=\"second_best_class\", y=\"second_highest_prob\",palette=sns.color_palette(\"hls\", 7) );\n",
        "    ax.set_ylabel(\"Probability sum\")\n",
        "    ax.set_title(\"Assigned Class: \" + str(i))\n",
        "\n"
      ],
      "metadata": {
        "trusted": true,
        "id": "JIVxDBe8OkLe"
      },
      "execution_count": null,
      "outputs": []
    },
    {
      "cell_type": "code",
      "source": [
        "confident_predictions = cluster_class_probs.loc[cluster_class_probs[\"highest_prob\"] >= 0.8]\n",
        "confident_predictions_class = confident_predictions[\"best_class\"]\n",
        "X_scaled[\"class\"] = confident_predictions_class"
      ],
      "metadata": {
        "trusted": true,
        "id": "uzd64OFnOkLf"
      },
      "execution_count": null,
      "outputs": []
    },
    {
      "cell_type": "code",
      "source": [
        "train_df = X_scaled.loc[X_scaled[\"class\"] == X_scaled[\"class\"]]\n",
        "test_df = X_scaled.loc[X_scaled[\"class\"] != X_scaled[\"class\"]]"
      ],
      "metadata": {
        "trusted": true,
        "id": "kJLQLREgOkLf"
      },
      "execution_count": null,
      "outputs": []
    },
    {
      "cell_type": "code",
      "source": [
        "X = train_df.drop(columns=\"class\").reset_index(drop=True)\n",
        "y = train_df[\"class\"].reset_index(drop=True)\n",
        "X_test = test_df.drop(columns=\"class\").reset_index(drop=True)\n",
        "X_full = X_scaled.drop(columns=\"class\")"
      ],
      "metadata": {
        "trusted": true,
        "id": "rX5D7WoPOkLf"
      },
      "execution_count": null,
      "outputs": []
    },
    {
      "cell_type": "code",
      "source": [
        "model_et = ExtraTreesClassifier(n_estimators = 2000,\n",
        "                                n_jobs = -1,\n",
        "                                random_state=42\n",
        "                               )"
      ],
      "metadata": {
        "trusted": true,
        "id": "t9GH763aOkLf"
      },
      "execution_count": null,
      "outputs": []
    },
    {
      "cell_type": "code",
      "source": [
        "model_lgbm = LGBMClassifier(objective = 'multiclass',\n",
        "                            n_estimators = 5000,\n",
        "                            random_state = 42,\n",
        "                            learning_rate = 0.1,\n",
        "                            n_jobs = -1)"
      ],
      "metadata": {
        "trusted": true,
        "id": "kODD3vsIOkLf"
      },
      "execution_count": null,
      "outputs": []
    },
    {
      "cell_type": "code",
      "source": [
        "model_qda = QuadraticDiscriminantAnalysis()\n",
        "model_lda = LinearDiscriminantAnalysis()"
      ],
      "metadata": {
        "trusted": true,
        "id": "ZCLM6b1TOkLf"
      },
      "execution_count": null,
      "outputs": []
    },
    {
      "cell_type": "code",
      "source": [
        "model_bgmm = BayesianGMMClassifier(\n",
        "            n_components=7,\n",
        "            random_state = 1,\n",
        "            tol =1e-3,\n",
        "            covariance_type = 'full',\n",
        "            max_iter = 400,\n",
        "            n_init=4,\n",
        "            init_params='kmeans')"
      ],
      "metadata": {
        "trusted": true,
        "id": "u52NIfBPOkLg"
      },
      "execution_count": null,
      "outputs": []
    },
    {
      "cell_type": "code",
      "source": [
        "models = {\"ET\":model_et, \"LGBM\":model_lgbm, \"QDA\":model_qda, \"LDA\":model_lda, \"BGMM_C\":model_bgmm}"
      ],
      "metadata": {
        "trusted": true,
        "id": "NzcEm3owOkLg"
      },
      "execution_count": null,
      "outputs": []
    },
    {
      "cell_type": "code",
      "source": [
        "def k_fold_cv(model,X,y, verbose=True):\n",
        "    kfold = StratifiedKFold(n_splits = 5, shuffle=True, random_state = 0)\n",
        "\n",
        "    feature_imp, y_pred_list, y_true_list, acc_list  = [],[],[],[]\n",
        "    for fold, (train_index, val_index) in enumerate(kfold.split(X, y)):\n",
        "        if verbose: print(\"==fold==\", fold)\n",
        "        X_train = X.loc[train_index]\n",
        "        X_val = X.loc[val_index]\n",
        "\n",
        "        y_train = y.loc[train_index]\n",
        "        y_val = y.loc[val_index]\n",
        "\n",
        "        model.fit(X_train,y_train)\n",
        "\n",
        "        y_pred = model.predict(X_val)\n",
        "\n",
        "        y_pred_list = np.append(y_pred_list, y_pred)\n",
        "        y_true_list = np.append(y_true_list, y_val)\n",
        "\n",
        "        acc_list.append(accuracy_score(y_pred, y_val))\n",
        "        if verbose: print('Acc', accuracy_score(y_pred, y_val))\n",
        "\n",
        "        try:\n",
        "            feature_imp.append(model.feature_importances_)\n",
        "        except AttributeError: # if model does not have .feature_importances_ attribute\n",
        "            pass # returns empty list\n",
        "            \n",
        "    return feature_imp, y_pred_list, y_true_list, acc_list, X_val, y_val"
      ],
      "metadata": {
        "trusted": true,
        "id": "hgL2buwFOkLg"
      },
      "execution_count": null,
      "outputs": []
    },
    {
      "cell_type": "code",
      "source": [
        "def evaluate_models():\n",
        "    for model_name, model in models.items():\n",
        "        print(\"===\",model_name,\"===\")\n",
        "        feature_imp, y_pred_list, y_true_list, acc_list, X_val, y_val = k_fold_cv(model=model,X=X,y=y, verbose=False)\n",
        "        acc_score = accuracy_score(y_pred_list, y_true_list)\n",
        "        print(\"{0:0.4f}\".format(acc_score))"
      ],
      "metadata": {
        "trusted": true,
        "id": "NKcsv4E_OkLg"
      },
      "execution_count": null,
      "outputs": []
    },
    {
      "cell_type": "code",
      "source": [
        "evaluate_models()"
      ],
      "metadata": {
        "trusted": true,
        "id": "2f8qx3foOkLg"
      },
      "execution_count": null,
      "outputs": []
    },
    {
      "cell_type": "markdown",
      "source": [
        "### Feature importance"
      ],
      "metadata": {
        "id": "IlkNli4ZOkLg"
      }
    },
    {
      "cell_type": "code",
      "source": [
        "feature_imp, y_pred_list, y_true_list, acc_list, X_val, y_val = k_fold_cv(model=model_lgbm,X=X,y=y)"
      ],
      "metadata": {
        "trusted": true,
        "id": "6dqT69oDOkLg"
      },
      "execution_count": null,
      "outputs": []
    },
    {
      "cell_type": "code",
      "source": [
        "def fold_feature_importances(model_importances, column_names, model_name, n_folds = 5, ax=None, boxplot=False):\n",
        "    importances_df = pd.DataFrame({\"feature_cols\": column_names, \"importances_fold_0\": model_importances[0]})\n",
        "    for i in range(1,n_folds):\n",
        "        importances_df[\"importances_fold_\"+str(i)] = model_importances[i]\n",
        "    importances_df[\"importances_fold_median\"] = importances_df.drop(columns=[\"feature_cols\"]).median(axis=1)\n",
        "    importances_df = importances_df.sort_values(by=\"importances_fold_median\", ascending=False)\n",
        "    if ax == None:\n",
        "        f, ax = plt.subplots(figsize=(15, 25))\n",
        "    if boxplot == False:\n",
        "        ax = sns.barplot(data = importances_df, x = \"importances_fold_median\", y=\"feature_cols\", color=\"blue\")\n",
        "        ax.set_xlabel(\"Median Feature importance across all folds\");\n",
        "    elif boxplot == True:\n",
        "        importances_df = importances_df.drop(columns=\"importances_fold_median\")\n",
        "        importances_df = importances_df.set_index(\"feature_cols\").stack().reset_index().rename(columns={0:\"feature_importance\"})\n",
        "        ax = sns.boxplot(data = importances_df, y = \"feature_cols\", x=\"feature_importance\", color=\"blue\", orient=\"h\")\n",
        "        ax.set_xlabel(\"Feature importance across all folds\");\n",
        "    plt.title(model_name)\n",
        "    ax.set_ylabel(\"Feature Columns\")\n",
        "    return ax"
      ],
      "metadata": {
        "trusted": true,
        "id": "zXTzFA-tOkLh"
      },
      "execution_count": null,
      "outputs": []
    },
    {
      "cell_type": "code",
      "source": [
        "f, ax = plt.subplots(figsize=(15, 15))\n",
        "fold_feature_importances(model_importances = feature_imp, column_names = X_val.columns, model_name = \"LGBM\", n_folds = 2, ax=ax, boxplot=False);"
      ],
      "metadata": {
        "trusted": true,
        "id": "YVQbDSpgOkLh"
      },
      "execution_count": null,
      "outputs": []
    },
    {
      "cell_type": "code",
      "source": [
        "def fit_predict_all():\n",
        "    predictions = []\n",
        "    model_names = []\n",
        "    scores = []\n",
        "    for model_name, model in models.items():\n",
        "        print(\"===\",model_name,\"===\")\n",
        "        model.fit(X[best_cols], y)\n",
        "        preds_prob =  model.predict_proba(X_full[best_cols])\n",
        "        preds_prob_df = pd.DataFrame(preds_prob, columns=range(1,8), index=X_scaled.index)\n",
        "        db, ch, s = score_clusters(X_scaled[best_cols], preds_prob_df.idxmax(axis=1), verbose=True)\n",
        "        scores.append((db,ch,s))\n",
        "        predictions.append(preds_prob_df)\n",
        "        model_names.append(model_name)\n",
        "    \n",
        "    return predictions, model_names, scores\n",
        "    "
      ],
      "metadata": {
        "trusted": true,
        "id": "crbBR3cOOkLh"
      },
      "execution_count": null,
      "outputs": []
    },
    {
      "cell_type": "code",
      "source": [
        "predictions, model_names, scores = fit_predict_all()"
      ],
      "metadata": {
        "trusted": true,
        "id": "2q5xNUeMOkLh"
      },
      "execution_count": null,
      "outputs": []
    },
    {
      "cell_type": "code",
      "source": [
        "cluster_class_probs = cluster_class_probs.loc[:,[1,2,3,4,5,6,7]]"
      ],
      "metadata": {
        "trusted": true,
        "id": "9GOhvUa2OkLh"
      },
      "execution_count": null,
      "outputs": []
    },
    {
      "cell_type": "code",
      "source": [
        "predictions.append(cluster_class_probs)\n",
        "model_names.append(\"BGMM\")"
      ],
      "metadata": {
        "trusted": true,
        "id": "7OODdRKfOkLh"
      },
      "execution_count": null,
      "outputs": []
    },
    {
      "cell_type": "code",
      "source": [
        "db, ch, s = score_clusters(X_scaled[best_cols], cluster_class_probs.idxmax(axis=1), verbose=True)\n",
        "scores.append((db,ch,s))"
      ],
      "metadata": {
        "trusted": true,
        "id": "xQL5uhUMOkLi"
      },
      "execution_count": null,
      "outputs": []
    },
    {
      "cell_type": "code",
      "source": [
        "#chosen fairly randomly\n",
        "predictions_df = 0.5 * predictions[0] + 1.5 * predictions[1] + 0.5 * predictions[2] + 1.5 * predictions[4] + 0.5 * predictions[5]\n",
        "\n",
        "#normalise so rows sums to 1\n",
        "predictions_df = predictions_df.div(predictions_df.sum(axis=1), axis=0)\n",
        "predictions_df = best_class(predictions_df)"
      ],
      "metadata": {
        "trusted": true,
        "id": "zH0WpKi9OkLi"
      },
      "execution_count": null,
      "outputs": []
    },
    {
      "cell_type": "code",
      "source": [
        "db, ch, s = score_clusters(X_scaled[best_cols], predictions_df[\"best_class\"], verbose=True)\n",
        "scores.append((db,ch,s))\n",
        "model_names.append(\"combined\")"
      ],
      "metadata": {
        "trusted": true,
        "id": "QCYUsMr-OkLi"
      },
      "execution_count": null,
      "outputs": []
    },
    {
      "cell_type": "code",
      "source": [
        "pd.DataFrame(scores, index=model_names, columns=[\"Davies-Bouldin Index\",\"Calinski-Harabasz Index\",\"Silhouette Coefficient\"])"
      ],
      "metadata": {
        "trusted": true,
        "id": "YtcUUzIsOkLi"
      },
      "execution_count": null,
      "outputs": []
    },
    {
      "cell_type": "code",
      "source": [
        "f,ax = plt.subplots(figsize=(10,5))\n",
        "val_c = predictions_df[\"best_class\"].value_counts()\n",
        "sns.barplot(x=val_c.index, y=val_c.values);"
      ],
      "metadata": {
        "trusted": true,
        "id": "vJUh_RqPOkLi"
      },
      "execution_count": null,
      "outputs": []
    },
    {
      "cell_type": "code",
      "source": [
        "pca = PCA(random_state = 10)\n",
        "X_pca = pca.fit_transform(X_scaled[best_cols])\n",
        "PCA_df = pd.DataFrame({\"PCA_1\" : X_pca[:,0], \"PCA_2\" : X_pca[:,1]})   \n",
        "PCA_df[\"class\"] = predictions_df[\"best_class\"]\n",
        "    \n",
        "f,ax = plt.subplots(figsize=(10, 10))\n",
        "sns.scatterplot(data = PCA_df, x = \"PCA_1\", y = \"PCA_2\", hue=\"class\", s=2, palette=sns.color_palette(\"hls\", PCA_df[\"class\"].nunique()));"
      ],
      "metadata": {
        "trusted": true,
        "id": "76X4y2y4OkLi"
      },
      "execution_count": null,
      "outputs": []
    },
    {
      "cell_type": "code",
      "source": [
        "confidence_s = predictions_df.groupby(\"best_class\")[\"highest_prob\"].mean()\n",
        "f,ax = plt.subplots(figsize=(8,6))\n",
        "sns.barplot(x=confidence_s.index, y = confidence_s.values, palette=sns.color_palette(\"hls\", 7) );\n",
        "ax.set_ylabel(\"Mean probability of point belonging to target class\");\n",
        "ax.set_ylim([0.4,0.95]);"
      ],
      "metadata": {
        "trusted": true,
        "id": "FI1ctba8OkLi"
      },
      "execution_count": null,
      "outputs": []
    },
    {
      "cell_type": "code",
      "source": [
        "second_highest_probs_sum = predictions_df.groupby([\"best_class\",\"second_best_class\"])[\"second_highest_prob\"].sum().reset_index()\n",
        "\n",
        "f,ax = plt.subplots(figsize=(25,12))\n",
        "format_dataframe = pd.DataFrame({\"second_best_class\":range(1,8)})\n",
        "for i in range(1,8):\n",
        "    second_best_match_for_i = second_highest_probs_sum.loc[second_highest_probs_sum[\"best_class\"] == i, [\"second_best_class\",\"second_highest_prob\"]]\n",
        "    #We merge so that all classes 1 to 7 are available, we do this to keep colours consistent throughout plots\n",
        "    plot_df = pd.merge(left=format_dataframe, right=second_best_match_for_i, how=\"left\", on=\"second_best_class\")\n",
        "    ax = plt.subplot(2,4,i)\n",
        "    sns.barplot(data= plot_df, x=\"second_best_class\", y=\"second_highest_prob\",palette=sns.color_palette(\"hls\", 7) );\n",
        "    ax.set_ylabel(\"Probability sum\")\n",
        "    ax.set_title(\"Assigned Class: \" + str(i))\n",
        "\n"
      ],
      "metadata": {
        "trusted": true,
        "id": "AhPmxL2OOkLi"
      },
      "execution_count": null,
      "outputs": []
    },
    {
      "cell_type": "code",
      "source": [
        "def update_predictions(predict_number, y):\n",
        "    for i in range(predict_number):\n",
        "        print(\"=========\", i, \"==========\")\n",
        "        X_scaled_sample = X_scaled.sample(60000)\n",
        "        y_sample = y.loc[X_scaled_sample.index]\n",
        "        \n",
        "        bgmmC = BayesianGMMClassifier(\n",
        "        n_components=7,\n",
        "        random_state = i,\n",
        "        tol =1e-3,\n",
        "        covariance_type = 'full',\n",
        "        max_iter = 300,\n",
        "        n_init=3,\n",
        "        init_params='kmeans')\n",
        "        \n",
        "        bgmmC.fit(X_scaled_sample[best_cols], y_sample)\n",
        "        \n",
        "        pred_probs = bgmmC.predict_proba(X_scaled[best_cols])\n",
        "        pred_probs = pd.DataFrame(pred_probs, columns=range(1,8))\n",
        "        \n",
        "        # lets score the cluster labels each iteration\n",
        "        score_clusters(X_scaled[best_cols], pred_probs.idxmax(axis=1), verbose=True)\n",
        "        y = pred_probs.idxmax(axis=1)\n",
        "        \n",
        "    return pred_probs"
      ],
      "metadata": {
        "trusted": true,
        "id": "kjYhfDklOkLj"
      },
      "execution_count": null,
      "outputs": []
    },
    {
      "cell_type": "code",
      "source": [
        "predicted_probabilities = update_predictions(predict_number=75, y=predictions_df[\"best_class\"])"
      ],
      "metadata": {
        "trusted": true,
        "id": "Iv6er4fJOkLj"
      },
      "execution_count": null,
      "outputs": []
    },
    {
      "cell_type": "code",
      "source": [
        "predictions_df = best_class(predicted_probabilities)"
      ],
      "metadata": {
        "trusted": true,
        "id": "98lLsWHMOkLj"
      },
      "execution_count": null,
      "outputs": []
    },
    {
      "cell_type": "code",
      "source": [
        "second_highest_probs_sum = predictions_df.groupby([\"best_class\",\"second_best_class\"])[\"second_highest_prob\"].sum().reset_index()\n",
        "\n",
        "f,ax = plt.subplots(figsize=(25,12))\n",
        "format_dataframe = pd.DataFrame({\"second_best_class\":range(1,8)})\n",
        "for i in range(1,8):\n",
        "    second_best_match_for_i = second_highest_probs_sum.loc[second_highest_probs_sum[\"best_class\"] == i, [\"second_best_class\",\"second_highest_prob\"]]\n",
        "    #We merge so that all classes 1 to 7 are available, we do this to keep colours consistent throughout plots\n",
        "    plot_df = pd.merge(left=format_dataframe, right=second_best_match_for_i, how=\"left\", on=\"second_best_class\")\n",
        "    ax = plt.subplot(2,4,i)\n",
        "    sns.barplot(data= plot_df, x=\"second_best_class\", y=\"second_highest_prob\",palette=sns.color_palette(\"hls\", 7) );\n",
        "    ax.set_ylabel(\"Probability sum\")\n",
        "    ax.set_title(\"Assigned Class: \" + str(i))"
      ],
      "metadata": {
        "trusted": true,
        "id": "y0YMeubPOkLj"
      },
      "execution_count": null,
      "outputs": []
    },
    {
      "cell_type": "code",
      "source": [
        "f,ax = plt.subplots(figsize=(10,5))\n",
        "val_c = predictions_df[\"best_class\"].value_counts()\n",
        "sns.barplot(x=val_c.index, y=val_c.values);"
      ],
      "metadata": {
        "trusted": true,
        "id": "hdB3fM2NOkLj"
      },
      "execution_count": null,
      "outputs": []
    },
    {
      "cell_type": "markdown",
      "source": [
        "### Submission"
      ],
      "metadata": {
        "id": "Ri9kMnTFOkLk"
      }
    },
    {
      "cell_type": "code",
      "source": [
        "submission = pd.read_csv(\"../input/tabular-playground-series-jul-2022/sample_submission.csv\")"
      ],
      "metadata": {
        "trusted": true,
        "id": "mnoxGohFOkLk"
      },
      "execution_count": null,
      "outputs": []
    },
    {
      "cell_type": "code",
      "source": [
        "submission[\"Predicted\"] = predictions_df[\"best_class\"]\n",
        "submission.to_csv('submission.csv', index=False)"
      ],
      "metadata": {
        "trusted": true,
        "id": "78j78kLJOkLk"
      },
      "execution_count": null,
      "outputs": []
    }
  ]
}